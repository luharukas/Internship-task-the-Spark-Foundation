{
 "cells": [
  {
   "cell_type": "markdown",
   "id": "f9cd1ef4",
   "metadata": {},
   "source": [
    "# SHUBHAM LUHARUKA\n",
    "\n",
    "# The Spark Foundation\n",
    "\n",
    "# Task 1 - Prediction using Supervised ML"
   ]
  },
  {
   "cell_type": "markdown",
   "id": "1d58be6c",
   "metadata": {},
   "source": [
    "Load the important libraries"
   ]
  },
  {
   "cell_type": "code",
   "execution_count": 10,
   "id": "f925fab1",
   "metadata": {},
   "outputs": [],
   "source": [
    "import numpy as np\n",
    "import pandas as pd\n",
    "import matplotlib.pyplot as plt\n",
    "import sklearn\n",
    "from sklearn.model_selection import train_test_split\n",
    "from sklearn.linear_model import LinearRegression \n",
    "from sklearn.metrics import mean_squared_error"
   ]
  },
  {
   "cell_type": "markdown",
   "id": "3693edb6",
   "metadata": {},
   "source": [
    "Load Dataset"
   ]
  },
  {
   "cell_type": "code",
   "execution_count": 2,
   "id": "d5b8c4aa",
   "metadata": {},
   "outputs": [
    {
     "name": "stdout",
     "output_type": "stream",
     "text": [
      "   Hours  Scores\n",
      "0    2.5      21\n",
      "1    5.1      47\n",
      "2    3.2      27\n",
      "3    8.5      75\n",
      "4    3.5      30\n"
     ]
    }
   ],
   "source": [
    "data=pd.read_csv(\"Task1_data.csv\",sep=',')\n",
    "print(data.head())"
   ]
  },
  {
   "cell_type": "code",
   "execution_count": 3,
   "id": "4c417165",
   "metadata": {},
   "outputs": [],
   "source": [
    "X_train=np.array(data['Hours'])\n",
    "y_train=np.array(data['Scores'])"
   ]
  },
  {
   "cell_type": "markdown",
   "id": "808e306a",
   "metadata": {},
   "source": [
    "Visualisation of dataset"
   ]
  },
  {
   "cell_type": "code",
   "execution_count": 4,
   "id": "54776748",
   "metadata": {},
   "outputs": [
    {
     "data": {
      "image/png": "[encoded data removed]",
      "text/plain": [
       "<Figure size 432x288 with 1 Axes>"
      ]
     },
     "metadata": {
      "needs_background": "light"
     },
     "output_type": "display_data"
    }
   ],
   "source": [
    "plt.scatter(X_train,y_train)\n",
    "plt.show()"
   ]
  },
  {
   "cell_type": "markdown",
   "id": "a53f12a2",
   "metadata": {},
   "source": [
    "Training of data"
   ]
  },
  {
   "cell_type": "code",
   "execution_count": 5,
   "id": "29792ff3",
   "metadata": {},
   "outputs": [],
   "source": [
    "classfier=LinearRegression()"
   ]
  },
  {
   "cell_type": "code",
   "execution_count": 6,
   "id": "3e896e6f",
   "metadata": {},
   "outputs": [],
   "source": [
    "X_train=X_train[...,np.newaxis]\n",
    "y_train=y_train[...,np.newaxis]"
   ]
  },
  {
   "cell_type": "code",
   "execution_count": 7,
   "id": "2c488fc1",
   "metadata": {},
   "outputs": [
    {
     "data": {
      "text/plain": [
       "LinearRegression()"
      ]
     },
     "execution_count": 7,
     "metadata": {},
     "output_type": "execute_result"
    }
   ],
   "source": [
    "classfier.fit(X_train,y_train)"
   ]
  },
  {
   "cell_type": "code",
   "execution_count": 8,
   "id": "57bc5f18",
   "metadata": {},
   "outputs": [
    {
     "data": {
      "image/png": "[encoded data removed]",
      "text/plain": [
       "<Figure size 432x288 with 1 Axes>"
      ]
     },
     "metadata": {
      "needs_background": "light"
     },
     "output_type": "display_data"
    }
   ],
   "source": [
    "y_pred=classfier.predict(X_train)\n",
    "plt.scatter(X_train, y_train)\n",
    "plt.plot(X_train, y_pred, color='red')\n",
    "plt.show()"
   ]
  },
  {
   "cell_type": "markdown",
   "id": "b240c4dc",
   "metadata": {},
   "source": [
    "Prediction of data"
   ]
  },
  {
   "cell_type": "code",
   "execution_count": 9,
   "id": "47e8e8df",
   "metadata": {},
   "outputs": [
    {
     "name": "stdout",
     "output_type": "stream",
     "text": [
      "Enter the hours for score prediction\n",
      "9.25\n",
      "Predicted Score for given input is: [92.90985477]\n"
     ]
    }
   ],
   "source": [
    "print(\"Enter the hours for score prediction\")\n",
    "input_hr=float(input())\n",
    "input_hr=np.array([input_hr])\n",
    "input_hr=input_hr[...,np.newaxis]\n",
    "predicted_score = classfier.predict(input_hr)\n",
    "print(\"Predicted Score for given input is: {}\".format(predicted_score[0]))"
   ]
  }
 ],
 "metadata": {
  "kernelspec": {
   "display_name": "Python 3",
   "language": "python",
   "name": "python3"
  },
  "language_info": {
   "codemirror_mode": {
    "name": "ipython",
    "version": 3
   },
   "file_extension": ".py",
   "mimetype": "text/x-python",
   "name": "python",
   "nbconvert_exporter": "python",
   "pygments_lexer": "ipython3",
   "version": "3.8.5"
  }
 },
 "nbformat": 4,
 "nbformat_minor": 5
}
